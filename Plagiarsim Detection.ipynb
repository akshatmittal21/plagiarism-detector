{
 "cells": [
  {
   "cell_type": "markdown",
   "metadata": {},
   "source": [
    "## Plagiarism Detection using cosine similarity"
   ]
  },
  {
   "cell_type": "code",
   "execution_count": 13,
   "metadata": {},
   "outputs": [],
   "source": [
    "import os\n",
    "import docx\n",
    "import nltk\n",
    "import numpy as np\n",
    "import math\n",
    "from nltk.corpus import stopwords"
   ]
  },
  {
   "cell_type": "code",
   "execution_count": 14,
   "metadata": {},
   "outputs": [],
   "source": [
    "# Getting docs file into single text\n",
    "def getText(filename):\n",
    "    doc=docx.Document(filename)\n",
    "    fullText=[]\n",
    "    for para in doc.paragraphs:\n",
    "        fullText.append(para.text)\n",
    "    return '\\n'.join(fullText)"
   ]
  },
  {
   "cell_type": "code",
   "execution_count": 3,
   "metadata": {},
   "outputs": [
    {
     "name": "stdout",
     "output_type": "stream",
     "text": [
      "6\n"
     ]
    }
   ],
   "source": [
    "# Reading .docx file and converting it in list\n",
    "docFiles=[]\n",
    "docNames=[]\n",
    "dirPath='./sample_files'\n",
    "for filename in os.listdir(dirPath): # Add path for the files\n",
    "    if filename.endswith('.docx'):\n",
    "        docNames.append(filename)\n",
    "        filename=getText(dirPath+'/'+filename)\n",
    "        docFiles.append(filename)\n",
    "# docFiles.sort(key=str.lower)\n",
    "# docNames.sort(key=str.lower)\n",
    "\n",
    "print(len(docFiles))"
   ]
  },
  {
   "cell_type": "code",
   "execution_count": 4,
   "metadata": {},
   "outputs": [],
   "source": [
    "# Building vocabulary from the words in all docs\n",
    "def build_lexicon(corpus):\n",
    "    lexicon=set()\n",
    "    for doc in corpus:\n",
    "        word_token=[word for word in doc.split()]\n",
    "        lower_word_list=[i.lower() for i in word_token]\n",
    "        \n",
    "        porter=nltk.PorterStemmer()\n",
    "        stemmed_word=[porter.stem(t) for t in lower_word_list]\n",
    "        \n",
    "        stop_words=set(stopwords.words('english'))\n",
    "        filtered_bag_of_word=[w for w in stemmed_word if not w in stop_words]\n",
    "        lexicon.update(filtered_bag_of_word)\n",
    "    return lexicon\n",
    "\n"
   ]
  },
  {
   "cell_type": "code",
   "execution_count": 5,
   "metadata": {},
   "outputs": [],
   "source": [
    "vocabulary=build_lexicon(docFiles)"
   ]
  },
  {
   "cell_type": "code",
   "execution_count": 6,
   "metadata": {},
   "outputs": [],
   "source": [
    "# Generating term frequency : Total occurence of words from vocabulary in each doc\n",
    "def tf(term,document):\n",
    "    return freq(term,document)\n",
    "\n",
    "def freq(term,document):\n",
    "    return document.split().count(term)"
   ]
  },
  {
   "cell_type": "code",
   "execution_count": 7,
   "metadata": {},
   "outputs": [
    {
     "name": "stdout",
     "output_type": "stream",
     "text": [
      "\n",
      "Our vocabulary vector is [align, may, found, 1, heading., emphasis., sane., verius., table,, ebooks,, want., ingenium, rop, text:, part, whose, subscript., here,, column,, correctly., outlin, doe, \"web, display, document,, allow, necessarili, prove, document\", box, item,, pages,, technolog, reader, paragraph., i.e., videmu, previou, bold-italic,, galleries., wide, —, document, document., para/doca, click, locations., take, special, main, either, interrupt, veri, voluptas., approach, obviously,, books”, descript, everi, table\", left, purpos, vast, make, focu, de, cave, horizont, column, calendar,, theme,, \"lists\", float, amet,, \"tables,\", conversion,, table—on, troubl, bodi, correctli, iocans;, except, chang, 3, nihil, devic, dropcap, types., boundaries., illustr, header,, time, pute, tu, microsoft, illi,, three, typograph, coordinated., narrow, dure, too,, best, locat, run, look, headings,, family., sever, split, screens., power, even, original,, plugin, ebooks., long, effect, honest, lover, ebook, thi, dicit?, struck, parte., new, simul, letter, documents:, ways:, line., stop, apart, drop-cap, occasion, intens, appear, (2007, continu, easier,, “d”, readers,, action., level,, smartart, accessible., font, posit, red,, complex., use., without, can't, link, right, image,, number, assist, calibr, 2,, newer), size, underlin, avail, vero, past, requir, larg, action,, head, miscellan, ha, generally,, often, nest, inlin, made, extern, indent,, code, aristoxeni, rather, map, backlink, side, break, theme, turn, dolor, retain, contents., cell, occupi, tri, set, complex,, complex, onlin, lorem, show, want, centered., conversion., (numbered), itself., columns., insert, add., readers., ubuntu, tabl, line, 58.5, sub, documents,, unlik, device., first, major, 100%, row., result, program, calibre., video,, elit., place, produced,, graphic, footnot, file, maximum, becom, prorsus,, wa, dialog, attention., partial, sunt., images,, normal, layout, level, word, \"headings\", extrem, end, keyword, sidebar., text,, columns,, bold,, height, case, becaus, let’, surround, fifth, color, -, much, element, torquatus:, side., table., then,, pts., littl, download, schedul, good, unord, nice, width., devices., equal, tum, analog, “block”, abil, provid, flow,, rows,, output, listing,, stretch, also, margin,, simpl, haec, altera, singl, other., reach, multi-level, simpli, arrow, cells:, ista, superscript, green, embed, invers, help, format,, vari, crazi, nunc, “add, ipsum, sed, footnotes,, size., “convert”., cap, you,, yellow, fancier, bullets,, floats,, exact, non, page,, musicis?, next., quidem,, translat, profession, footer,, appli, together,, possible,, border., final, sub-headings,, type, pdfs:, sane, admirabilia, means,, italic,, properti, given, depend, item, (bulleted), limit, adipisc, on., one, capabl, results,, iam, top, row, text., data,, quam, add, border, technology,, essenti, emphas, items., epub, background., input, view, common, theme., plu, start, next,, paragraph, poetri, fun, expressa, confirmata, web, exampl, imag, consumptum, tables., urg, inner, one,, styles,, interrete., box., you., inquit, subtl, ease., read, unit, word., 2, fanci, thing, option, notic, next, word,, quantum, anoth, rememb, kind, highlight., announcement., onli, contents,, mono, six, headings., light, pictures,, whatev, public, header, strike, them., blue, dicamus., paragraphs,, gener, image., techniqu, note, order, endnotes,, sections., absolut, point, links,, images., befor, fictiti, regular, extra, “float, l., instead,, it., list, sure, anyth, quae, assentior;, current, convers, gray, endnot, \"complex, graphs,, differ, well,, indent, keep, sign., resum, fix, commun, screen, follow, corner, handl, video, demonstr, ii, looks., table,\", section., work, example,, ensur, access, units., consectetur, hang, collaps, via, tolerable., ident, use, contain, omittamus;, ebook., sit, support, source:, variou, match, “, instanc, azw3, emphasi, converting., dot, lists,, handy., kindl, five, borders., insid, symbol, symbol\"., content, well, see, dot., preced, recogn, view., eas, complet, eight, ess, page, format, etc., possibl, width, topmost, small, way, “ok”., beginning,, featur, ani, merg, across, automat, bullets:, m., choos, fare, regularli, cover, close, origin, end,, amongst, like., relev, center, text, correctly,, mani, creat, servic, refer, need, someth, usual, point., perfect, inquit,, formatting., ., caus, drop, rel, properli, typeface,, second, modern, reges:, optimum, chart, get, bullet, on,, specifi, philosophia, tables,, altern, like, nostram, convert, websit, alt, identifi, indents,, lead, save, four, docx, section, inserted,, don’t, uniform, structur, fonts., categori, descriptions,, merged., pictur, emb, width,, within, \"sampl, come, constructio, book, two, possible., sampl, &, video., search, style, charts,, general,, quid, preserved., percentages,, aetatibus,, ugly., additionally,, individu, back, \"simpl, bullets., complement, strong, design, hyperlinks,, viewer, duo, that., button, fit, quicquam, pomponiu]\n",
      "\n",
      "The tf vector for Document 1 is [0, 1, 1, 2, 0, 1, 0, 0, 2, 1, 0, 0, 1, 1, 1, 1, 1, 0, 0, 1, 0, 0, 0, 2, 2, 0, 0, 0, 0, 0, 0, 0, 0, 0, 2, 1, 0, 0, 1, 0, 3, 1, 7, 3, 0, 2, 1, 1, 1, 1, 2, 0, 0, 0, 0, 0, 0, 0, 0, 0, 4, 0, 1, 1, 0, 0, 0, 0, 1, 1, 0, 0, 0, 0, 0, 1, 0, 0, 0, 0, 0, 0, 0, 0, 0, 0, 2, 1, 1, 0, 0, 0, 0, 0, 0, 0, 2, 0, 0, 1, 0, 0, 1, 0, 1, 2, 0, 1, 0, 0, 1, 0, 2, 1, 1, 1, 2, 1, 0, 0, 7, 0, 0, 1, 0, 0, 0, 1, 0, 0, 1, 0, 1, 1, 0, 0, 0, 1, 0, 0, 0, 1, 1, 1, 0, 0, 4, 0, 1, 1, 1, 0, 0, 2, 5, 2, 0, 0, 0, 1, 1, 2, 0, 0, 0, 0, 0, 0, 1, 0, 0, 0, 0, 1, 0, 0, 0, 0, 2, 0, 0, 2, 0, 0, 0, 0, 0, 0, 0, 0, 0, 0, 0, 0, 2, 1, 0, 0, 0, 0, 1, 1, 1, 0, 2, 0, 0, 0, 0, 0, 0, 5, 1, 1, 0, 0, 0, 1, 0, 1, 1, 1, 0, 1, 0, 0, 0, 0, 0, 0, 1, 1, 0, 0, 0, 1, 1, 1, 0, 1, 2, 0, 3, 0, 0, 0, 2, 0, 0, 0, 0, 1, 1, 0, 0, 0, 0, 0, 0, 0, 1, 0, 0, 1, 1, 0, 1, 0, 0, 0, 1, 0, 1, 1, 1, 1, 0, 0, 1, 0, 0, 1, 0, 2, 1, 0, 2, 1, 0, 0, 0, 0, 0, 0, 1, 0, 1, 0, 0, 1, 4, 0, 0, 0, 1, 0, 0, 0, 0, 0, 0, 2, 1, 0, 1, 1, 1, 1, 1, 1, 1, 0, 0, 0, 0, 0, 0, 0, 0, 0, 0, 1, 1, 1, 0, 1, 0, 0, 0, 0, 1, 0, 1, 0, 1, 0, 0, 0, 1, 2, 0, 1, 0, 2, 2, 3, 1, 0, 2, 1, 2, 0, 0, 0, 0, 1, 0, 2, 1, 0, 0, 1, 0, 10, 0, 0, 0, 0, 0, 0, 0, 0, 1, 0, 1, 0, 0, 0, 1, 1, 0, 0, 1, 0, 0, 0, 1, 0, 0, 0, 0, 1, 0, 0, 0, 0, 0, 1, 1, 0, 0, 0, 0, 0, 1, 0, 0, 1, 3, 0, 0, 1, 0, 1, 0, 0, 0, 1, 0, 3, 0, 0, 1, 1, 0, 0, 0, 1, 1, 0, 0, 0, 2, 3, 1, 0, 0, 0, 1, 0, 1, 0, 0, 0, 0, 1, 2, 0, 0, 0, 0, 0, 2, 0, 1, 0, 0, 0, 0, 0, 0, 2, 0, 1, 0, 0, 1, 0, 0, 0, 0, 1, 0, 6, 0, 0, 2, 0, 2, 0, 0, 0, 1, 0, 0, 0, 1, 1, 1, 1, 0, 0, 1, 0, 0, 0, 0, 2, 6, 1, 0, 0, 0, 0, 0, 0, 0, 3, 1, 1, 0, 2, 1, 1, 0, 0, 0, 0, 0, 0, 0, 0, 1, 1, 0, 1, 0, 0, 1, 0, 0, 1, 1, 0, 0, 15, 0, 0, 0, 0, 2, 0, 0, 0, 0, 1, 0, 1, 2, 0, 1, 0, 0, 2, 1, 1, 0, 1, 0, 1, 2, 1, 0, 0, 1, 0, 4, 0, 1, 0, 0, 0, 1, 0, 0, 0, 0, 1, 1, 1, 0, 0, 1, 0, 0, 1, 0, 0, 1, 0, 0, 1, 0, 1, 2, 1, 0, 1, 1, 0, 1, 0, 1, 0, 2, 1, 0, 1, 0, 0, 1, 0, 1, 0, 1, 0, 1, 1, 0, 0, 2, 0, 0, 0]\n",
      "\n",
      "The tf vector for Document 2 is [0, 3, 0, 1, 1, 0, 0, 0, 1, 0, 0, 0, 0, 0, 0, 0, 0, 0, 3, 0, 0, 0, 0, 0, 0, 1, 0, 0, 0, 0, 1, 2, 0, 0, 1, 0, 0, 0, 0, 0, 0, 0, 3, 1, 0, 0, 0, 0, 0, 1, 0, 0, 0, 0, 0, 0, 0, 0, 0, 0, 1, 0, 0, 0, 0, 0, 0, 0, 1, 0, 0, 0, 0, 0, 0, 0, 0, 0, 0, 0, 0, 0, 0, 1, 0, 0, 0, 0, 0, 0, 0, 0, 0, 0, 0, 0, 0, 0, 0, 0, 0, 0, 0, 0, 1, 0, 2, 0, 0, 1, 0, 0, 1, 0, 0, 0, 2, 0, 0, 0, 0, 0, 0, 0, 0, 0, 0, 0, 1, 1, 0, 0, 0, 0, 0, 0, 0, 0, 0, 0, 0, 0, 0, 0, 0, 1, 0, 0, 0, 0, 0, 1, 1, 2, 0, 2, 1, 0, 0, 0, 0, 0, 0, 0, 0, 0, 0, 0, 0, 0, 0, 0, 0, 0, 0, 0, 1, 0, 0, 0, 0, 0, 0, 0, 0, 0, 0, 0, 0, 0, 0, 0, 0, 0, 0, 0, 1, 0, 0, 0, 0, 0, 0, 1, 0, 2, 0, 0, 1, 0, 0, 3, 0, 0, 2, 0, 0, 4, 0, 0, 0, 0, 0, 0, 0, 0, 0, 0, 0, 0, 0, 0, 0, 0, 0, 0, 0, 0, 0, 1, 0, 0, 3, 0, 0, 0, 0, 0, 0, 1, 2, 0, 0, 0, 0, 0, 0, 1, 0, 0, 0, 0, 0, 0, 1, 0, 0, 0, 0, 0, 0, 0, 0, 0, 0, 0, 0, 0, 0, 0, 0, 0, 1, 0, 0, 0, 0, 0, 0, 0, 0, 0, 0, 0, 0, 0, 0, 1, 0, 0, 0, 0, 0, 0, 0, 0, 0, 0, 0, 0, 0, 0, 0, 0, 0, 0, 0, 0, 0, 0, 0, 0, 1, 0, 1, 0, 0, 0, 0, 0, 1, 0, 0, 0, 1, 0, 0, 0, 0, 1, 0, 0, 0, 0, 0, 1, 0, 0, 1, 0, 0, 0, 0, 0, 1, 0, 0, 0, 0, 0, 0, 0, 0, 2, 0, 0, 0, 0, 0, 0, 0, 0, 1, 0, 0, 0, 0, 0, 3, 0, 0, 0, 0, 0, 0, 0, 0, 0, 0, 0, 0, 0, 0, 2, 0, 0, 1, 0, 0, 0, 0, 0, 0, 0, 0, 0, 0, 0, 0, 0, 0, 0, 1, 2, 0, 0, 0, 0, 0, 0, 0, 0, 0, 0, 0, 1, 0, 0, 0, 0, 1, 0, 1, 0, 1, 0, 0, 0, 0, 0, 0, 0, 0, 2, 0, 0, 0, 0, 0, 0, 0, 0, 0, 1, 0, 0, 0, 0, 0, 0, 0, 0, 2, 0, 0, 0, 0, 0, 0, 1, 0, 0, 0, 1, 0, 0, 0, 0, 0, 0, 2, 0, 0, 0, 1, 0, 0, 0, 0, 0, 0, 0, 0, 0, 0, 0, 0, 0, 1, 0, 0, 0, 0, 0, 1, 0, 0, 0, 0, 0, 0, 0, 0, 0, 0, 1, 0, 2, 0, 0, 0, 0, 0, 0, 0, 0, 1, 0, 0, 0, 2, 0, 0, 0, 0, 0, 0, 0, 0, 0, 0, 0, 0, 0, 0, 2, 1, 0, 0, 0, 0, 0, 0, 0, 0, 0, 0, 0, 0, 0, 0, 0, 0, 0, 2, 0, 0, 0, 0, 0, 0, 0, 0, 0, 2, 0, 0, 0, 0, 0, 0, 0, 0, 0, 0, 0, 0, 3, 0, 0, 1, 0, 0, 0, 1, 0, 0, 0, 0, 1, 0, 0, 0, 0, 3, 0, 0, 0, 0, 0, 0, 0, 0, 0, 0, 0, 0, 0, 0, 0, 0, 0, 0, 0, 0, 0, 0, 0, 0, 1, 0, 0, 0, 0]\n"
     ]
    },
    {
     "name": "stdout",
     "output_type": "stream",
     "text": [
      "\n",
      "The tf vector for Document 3 is [0, 0, 0, 0, 0, 0, 0, 0, 466, 0, 466, 0, 0, 0, 0, 0, 0, 0, 466, 0, 0, 0, 0, 0, 466, 0, 0, 468, 0, 468, 0, 0, 0, 0, 0, 0, 0, 0, 0, 466, 0, 0, 1400, 468, 0, 2332, 0, 0, 0, 0, 0, 0, 0, 0, 0, 0, 0, 0, 0, 0, 466, 0, 0, 468, 0, 0, 0, 0, 0, 0, 0, 0, 0, 0, 0, 0, 0, 0, 0, 0, 0, 0, 0, 0, 0, 0, 0, 0, 0, 0, 936, 466, 0, 0, 0, 0, 0, 0, 466, 0, 0, 466, 468, 0, 0, 468, 0, 0, 0, 0, 0, 0, 466, 0, 0, 0, 0, 0, 0, 0, 0, 0, 0, 0, 0, 2330, 0, 0, 0, 0, 0, 466, 0, 0, 0, 0, 0, 0, 0, 466, 0, 0, 0, 0, 0, 0, 0, 0, 0, 0, 0, 0, 0, 0, 0, 0, 0, 0, 0, 0, 0, 0, 0, 0, 0, 0, 0, 0, 0, 0, 0, 0, 0, 0, 0, 0, 0, 0, 0, 468, 0, 0, 0, 0, 0, 0, 0, 0, 0, 0, 0, 0, 0, 0, 0, 0, 0, 0, 0, 466, 1400, 0, 0, 0, 0, 0, 0, 468, 0, 0, 0, 0, 0, 0, 0, 0, 466, 0, 0, 0, 0, 0, 0, 0, 0, 0, 0, 468, 0, 0, 0, 0, 0, 0, 0, 0, 0, 0, 0, 0, 0, 466, 0, 0, 0, 0, 0, 468, 468, 0, 0, 0, 0, 0, 0, 0, 0, 0, 0, 466, 0, 0, 0, 0, 0, 0, 0, 0, 0, 0, 0, 0, 0, 0, 0, 0, 0, 0, 0, 0, 0, 0, 0, 0, 0, 0, 934, 0, 0, 0, 0, 0, 468, 466, 0, 0, 0, 0, 0, 0, 0, 468, 0, 934, 0, 0, 0, 0, 0, 0, 0, 0, 0, 0, 0, 0, 0, 0, 0, 0, 0, 0, 936, 0, 0, 0, 0, 0, 468, 0, 0, 0, 0, 0, 0, 468, 0, 0, 0, 0, 0, 0, 0, 0, 0, 0, 0, 0, 0, 0, 0, 0, 0, 0, 466, 0, 0, 0, 934, 0, 0, 0, 0, 0, 0, 0, 0, 0, 0, 932, 0, 0, 0, 0, 0, 0, 0, 0, 0, 0, 0, 0, 0, 0, 0, 0, 466, 0, 0, 0, 0, 0, 0, 0, 0, 0, 0, 0, 0, 0, 0, 466, 0, 0, 0, 0, 0, 0, 0, 0, 0, 0, 0, 0, 0, 466, 0, 0, 0, 0, 466, 0, 0, 0, 0, 0, 0, 0, 0, 0, 0, 0, 0, 0, 0, 0, 0, 0, 0, 0, 0, 0, 466, 0, 0, 0, 0, 0, 0, 0, 0, 0, 0, 0, 0, 0, 0, 466, 466, 0, 0, 0, 0, 0, 0, 0, 936, 0, 0, 0, 0, 0, 466, 468, 0, 0, 0, 0, 0, 0, 0, 0, 0, 0, 0, 0, 0, 0, 0, 0, 0, 932, 0, 0, 0, 0, 0, 0, 0, 0, 0, 0, 0, 0, 0, 0, 0, 0, 0, 0, 0, 0, 466, 0, 0, 0, 0, 0, 0, 0, 0, 0, 0, 0, 934, 0, 0, 0, 0, 0, 0, 0, 0, 0, 0, 0, 0, 936, 0, 0, 466, 0, 0, 0, 0, 934, 0, 0, 0, 0, 0, 932, 0, 0, 468, 0, 0, 0, 0, 0, 0, 0, 0, 0, 0, 0, 0, 0, 0, 0, 0, 0, 0, 0, 0, 0, 0, 0, 0, 0, 0, 0, 0, 0, 0, 0, 0, 0, 0, 0, 0, 0, 0, 0, 0, 0, 0, 0, 0, 0, 0, 0, 0, 0, 0, 0, 0, 0, 0, 468, 0, 466, 0, 0, 0, 0, 0, 0, 0, 0, 0, 0, 0, 468, 0, 0, 0, 0, 0, 0, 466, 0, 0, 0]\n",
      "\n",
      "The tf vector for Document 1 is [0, 1, 1, 2, 0, 1, 0, 0, 2, 1, 0, 0, 1, 1, 1, 1, 1, 0, 0, 1, 0, 0, 0, 2, 2, 0, 0, 0, 0, 0, 0, 0, 0, 0, 2, 1, 0, 0, 1, 0, 3, 1, 7, 3, 0, 2, 1, 1, 1, 1, 2, 0, 0, 0, 0, 0, 0, 0, 0, 0, 4, 0, 1, 1, 0, 0, 0, 0, 1, 1, 0, 0, 0, 0, 0, 1, 0, 0, 0, 0, 0, 0, 0, 0, 0, 0, 2, 1, 1, 0, 0, 0, 0, 0, 0, 0, 2, 0, 0, 1, 0, 0, 1, 0, 1, 2, 0, 1, 0, 0, 1, 0, 2, 1, 1, 1, 2, 1, 0, 0, 7, 0, 0, 1, 0, 0, 0, 1, 0, 0, 1, 0, 1, 1, 0, 0, 0, 1, 0, 0, 0, 1, 1, 1, 0, 0, 4, 0, 1, 1, 1, 0, 0, 2, 5, 2, 0, 0, 0, 1, 1, 2, 0, 0, 0, 0, 0, 0, 1, 0, 0, 0, 0, 1, 0, 0, 0, 0, 2, 0, 0, 2, 0, 0, 0, 0, 0, 0, 0, 0, 0, 0, 0, 0, 2, 1, 0, 0, 0, 0, 1, 1, 1, 0, 2, 0, 0, 0, 0, 0, 0, 5, 1, 1, 0, 0, 0, 1, 0, 1, 1, 1, 0, 1, 0, 0, 0, 0, 0, 0, 1, 1, 0, 0, 0, 1, 1, 1, 0, 1, 2, 0, 3, 0, 0, 0, 2, 0, 0, 0, 0, 1, 1, 0, 0, 0, 0, 0, 0, 0, 1, 0, 0, 1, 1, 0, 1, 0, 0, 0, 1, 0, 1, 1, 1, 1, 0, 0, 1, 0, 0, 1, 0, 2, 1, 0, 2, 1, 0, 0, 0, 0, 0, 0, 1, 0, 1, 0, 0, 1, 4, 0, 0, 0, 1, 0, 0, 0, 0, 0, 0, 2, 1, 0, 1, 1, 1, 1, 1, 1, 1, 0, 0, 0, 0, 0, 0, 0, 0, 0, 0, 1, 1, 1, 0, 1, 0, 0, 0, 0, 1, 0, 1, 0, 1, 0, 0, 0, 1, 2, 0, 1, 0, 2, 2, 3, 1, 0, 2, 1, 2, 0, 0, 0, 0, 1, 0, 2, 1, 0, 0, 1, 0, 10, 0, 0, 0, 0, 0, 0, 0, 0, 1, 0, 1, 0, 0, 0, 1, 1, 0, 0, 1, 0, 0, 0, 1, 0, 0, 0, 0, 1, 0, 0, 0, 0, 0, 1, 1, 0, 0, 0, 0, 0, 1, 0, 0, 1, 3, 0, 0, 1, 0, 1, 0, 0, 0, 1, 0, 3, 0, 0, 1, 1, 0, 0, 0, 1, 1, 0, 0, 0, 2, 3, 1, 0, 0, 0, 1, 0, 1, 0, 0, 0, 0, 1, 2, 0, 0, 0, 0, 0, 2, 0, 1, 0, 0, 0, 0, 0, 0, 2, 0, 1, 0, 0, 1, 0, 0, 0, 0, 1, 0, 6, 0, 0, 2, 0, 2, 0, 0, 0, 1, 0, 0, 0, 1, 1, 1, 1, 0, 0, 1, 0, 0, 0, 0, 2, 6, 1, 0, 0, 0, 0, 0, 0, 0, 3, 1, 1, 0, 2, 1, 1, 0, 0, 0, 0, 0, 0, 0, 0, 1, 1, 0, 1, 0, 0, 1, 0, 0, 1, 1, 0, 0, 15, 0, 0, 0, 0, 2, 0, 0, 0, 0, 1, 0, 1, 2, 0, 1, 0, 0, 2, 1, 1, 0, 1, 0, 1, 2, 1, 0, 0, 1, 0, 4, 0, 1, 0, 0, 0, 1, 0, 0, 0, 0, 1, 1, 1, 0, 0, 1, 0, 0, 1, 0, 0, 1, 0, 0, 1, 0, 1, 2, 1, 0, 1, 1, 0, 1, 0, 1, 0, 2, 1, 0, 1, 0, 0, 1, 0, 1, 0, 1, 0, 1, 1, 0, 0, 2, 0, 0, 0]\n",
      "\n",
      "The tf vector for Document 5 is [0, 0, 0, 0, 0, 0, 1, 1, 0, 0, 0, 1, 0, 0, 0, 0, 0, 0, 0, 0, 0, 0, 0, 0, 0, 0, 0, 0, 0, 0, 0, 0, 0, 0, 0, 0, 0, 0, 0, 0, 0, 0, 0, 0, 1, 0, 0, 0, 0, 0, 0, 0, 0, 1, 0, 0, 0, 0, 0, 0, 0, 0, 0, 0, 0, 1, 0, 0, 0, 0, 0, 0, 0, 1, 0, 0, 0, 0, 0, 0, 1, 0, 0, 0, 0, 0, 0, 0, 0, 0, 0, 0, 0, 1, 0, 1, 0, 0, 0, 0, 0, 0, 0, 0, 0, 0, 0, 0, 0, 0, 0, 0, 0, 0, 0, 0, 0, 0, 0, 0, 0, 0, 1, 0, 1, 0, 0, 0, 0, 0, 0, 0, 0, 0, 0, 0, 0, 0, 0, 0, 0, 0, 0, 0, 0, 0, 0, 0, 0, 0, 0, 0, 0, 0, 0, 0, 0, 0, 0, 0, 0, 0, 0, 0, 1, 0, 0, 0, 0, 0, 0, 0, 0, 0, 0, 0, 0, 0, 0, 0, 0, 0, 0, 0, 0, 0, 0, 0, 1, 0, 0, 0, 0, 0, 0, 0, 0, 0, 0, 0, 0, 0, 0, 0, 0, 0, 0, 0, 0, 0, 0, 0, 0, 0, 0, 0, 0, 0, 0, 0, 0, 0, 0, 0, 0, 1, 0, 0, 0, 0, 0, 0, 0, 0, 0, 0, 0, 0, 1, 0, 0, 0, 0, 0, 0, 0, 0, 0, 0, 0, 0, 0, 0, 0, 0, 0, 0, 0, 0, 0, 0, 0, 0, 0, 0, 0, 0, 0, 0, 0, 0, 0, 0, 0, 0, 0, 0, 0, 0, 0, 0, 0, 0, 0, 0, 0, 0, 0, 0, 2, 1, 0, 0, 0, 0, 0, 0, 0, 1, 0, 0, 0, 0, 0, 0, 0, 0, 1, 0, 1, 0, 0, 0, 0, 0, 0, 0, 0, 0, 0, 0, 0, 0, 1, 0, 1, 0, 0, 0, 0, 0, 0, 0, 0, 0, 0, 0, 1, 1, 0, 0, 0, 0, 0, 0, 0, 0, 0, 0, 0, 0, 0, 1, 0, 0, 0, 0, 1, 0, 0, 0, 0, 0, 0, 0, 0, 0, 0, 0, 0, 0, 0, 0, 0, 0, 0, 0, 0, 0, 0, 0, 1, 0, 0, 0, 0, 0, 1, 0, 0, 1, 0, 0, 0, 0, 0, 0, 0, 0, 0, 0, 0, 0, 0, 0, 0, 0, 0, 0, 0, 0, 0, 0, 0, 0, 0, 0, 0, 0, 0, 0, 0, 1, 0, 0, 0, 0, 0, 0, 0, 0, 0, 0, 0, 0, 0, 0, 0, 0, 0, 0, 0, 0, 0, 0, 0, 1, 1, 0, 0, 0, 0, 0, 0, 0, 0, 0, 0, 0, 0, 0, 0, 0, 0, 0, 0, 0, 0, 0, 0, 0, 0, 0, 0, 0, 0, 0, 1, 0, 0, 0, 0, 0, 0, 0, 2, 0, 1, 0, 0, 0, 0, 0, 0, 0, 0, 0, 0, 0, 0, 0, 0, 0, 0, 0, 0, 0, 0, 0, 0, 0, 0, 0, 0, 0, 0, 0, 0, 0, 0, 0, 0, 0, 0, 0, 0, 0, 0, 0, 0, 0, 0, 0, 0, 0, 0, 0, 0, 0, 0, 0, 0, 0, 0, 0, 0, 0, 0, 0, 0, 0, 0, 0, 0, 0, 0, 1, 0, 0, 0, 0, 0, 0, 0, 0, 0, 0, 0, 0, 0, 0, 0, 0, 0, 0, 0, 0, 1, 0, 0, 0, 0, 0, 0, 0, 0, 0, 0, 0, 0, 0, 0, 0, 0, 0, 0, 0, 0, 0, 0, 0, 0, 1, 0, 0, 0, 0, 0, 0, 0, 0, 0, 0, 0, 0, 0, 1, 0, 0, 0, 0, 0, 0, 0, 0, 0, 0, 0, 0, 0, 0, 0, 1, 0]\n",
      "\n",
      "The tf vector for Document 6 is [0, 0, 0, 0, 0, 1, 0, 0, 1, 1, 0, 0, 0, 1, 1, 1, 1, 0, 0, 1, 0, 0, 0, 2, 1, 0, 0, 0, 0, 0, 0, 0, 0, 0, 2, 1, 0, 0, 1, 0, 3, 1, 5, 1, 0, 2, 1, 1, 1, 1, 2, 0, 0, 0, 0, 0, 0, 0, 0, 0, 2, 0, 0, 0, 0, 0, 0, 0, 0, 1, 0, 0, 0, 0, 0, 1, 0, 0, 0, 0, 0, 0, 0, 0, 0, 0, 0, 1, 1, 0, 0, 0, 0, 0, 0, 0, 1, 0, 0, 1, 0, 0, 0, 0, 0, 1, 0, 1, 0, 0, 1, 0, 2, 0, 1, 1, 2, 0, 0, 0, 5, 0, 0, 1, 0, 0, 0, 1, 0, 0, 1, 0, 1, 0, 0, 0, 0, 1, 0, 0, 0, 1, 1, 0, 0, 0, 2, 0, 1, 0, 0, 0, 0, 0, 5, 2, 0, 0, 0, 0, 1, 0, 0, 0, 0, 0, 0, 0, 1, 0, 0, 0, 0, 1, 0, 0, 0, 0, 1, 0, 0, 1, 0, 0, 0, 0, 0, 0, 0, 0, 0, 0, 0, 0, 0, 1, 0, 0, 0, 0, 0, 1, 1, 0, 0, 0, 0, 0, 0, 0, 0, 4, 0, 1, 0, 0, 0, 0, 0, 1, 0, 0, 0, 0, 0, 0, 0, 0, 0, 0, 1, 1, 0, 0, 0, 1, 1, 1, 0, 1, 2, 0, 2, 0, 0, 0, 2, 0, 0, 0, 0, 1, 0, 0, 0, 0, 0, 0, 0, 0, 1, 0, 0, 1, 1, 0, 0, 0, 0, 0, 0, 0, 0, 1, 1, 1, 0, 0, 1, 0, 0, 1, 0, 2, 1, 0, 2, 1, 0, 0, 0, 0, 0, 0, 0, 0, 1, 0, 0, 1, 3, 0, 0, 0, 1, 0, 0, 0, 0, 0, 0, 2, 1, 0, 0, 1, 1, 1, 1, 1, 1, 0, 0, 0, 0, 0, 0, 0, 0, 0, 0, 0, 1, 1, 0, 1, 0, 0, 0, 0, 1, 0, 1, 0, 1, 0, 0, 0, 0, 2, 0, 0, 0, 2, 2, 3, 1, 0, 2, 0, 1, 0, 0, 0, 0, 1, 0, 1, 0, 0, 0, 0, 0, 7, 0, 0, 0, 0, 0, 0, 0, 0, 0, 0, 1, 0, 0, 0, 1, 1, 0, 0, 1, 0, 0, 0, 0, 0, 0, 0, 0, 1, 0, 0, 0, 0, 0, 1, 1, 0, 0, 0, 0, 0, 1, 0, 0, 1, 2, 0, 0, 1, 0, 1, 0, 0, 0, 1, 0, 3, 0, 0, 1, 1, 0, 0, 0, 1, 1, 0, 0, 0, 0, 3, 0, 0, 0, 0, 1, 0, 1, 0, 0, 0, 0, 0, 2, 0, 0, 0, 0, 0, 1, 0, 1, 0, 0, 0, 0, 0, 0, 0, 0, 0, 0, 0, 0, 0, 0, 0, 0, 0, 0, 4, 0, 0, 2, 0, 2, 0, 0, 0, 1, 0, 0, 0, 0, 1, 1, 1, 0, 0, 1, 0, 0, 0, 0, 1, 6, 1, 0, 0, 0, 0, 0, 0, 0, 3, 1, 0, 0, 1, 0, 1, 0, 0, 0, 0, 0, 0, 0, 0, 1, 1, 0, 1, 0, 0, 1, 0, 0, 1, 1, 0, 0, 13, 0, 0, 0, 0, 0, 0, 0, 0, 0, 0, 0, 1, 1, 0, 0, 0, 0, 2, 0, 1, 0, 0, 0, 1, 2, 0, 0, 0, 1, 0, 4, 0, 1, 0, 0, 0, 1, 0, 0, 0, 0, 0, 1, 1, 0, 0, 1, 0, 0, 1, 0, 0, 1, 0, 0, 1, 0, 0, 0, 0, 0, 1, 1, 0, 0, 0, 1, 0, 2, 0, 0, 0, 0, 0, 0, 0, 1, 0, 1, 0, 0, 1, 0, 0, 2, 0, 0, 0]\n",
      "\n",
      "All combined, here is our master document tree matrix: \n",
      "[[0, 1, 1, 2, 0, 1, 0, 0, 2, 1, 0, 0, 1, 1, 1, 1, 1, 0, 0, 1, 0, 0, 0, 2, 2, 0, 0, 0, 0, 0, 0, 0, 0, 0, 2, 1, 0, 0, 1, 0, 3, 1, 7, 3, 0, 2, 1, 1, 1, 1, 2, 0, 0, 0, 0, 0, 0, 0, 0, 0, 4, 0, 1, 1, 0, 0, 0, 0, 1, 1, 0, 0, 0, 0, 0, 1, 0, 0, 0, 0, 0, 0, 0, 0, 0, 0, 2, 1, 1, 0, 0, 0, 0, 0, 0, 0, 2, 0, 0, 1, 0, 0, 1, 0, 1, 2, 0, 1, 0, 0, 1, 0, 2, 1, 1, 1, 2, 1, 0, 0, 7, 0, 0, 1, 0, 0, 0, 1, 0, 0, 1, 0, 1, 1, 0, 0, 0, 1, 0, 0, 0, 1, 1, 1, 0, 0, 4, 0, 1, 1, 1, 0, 0, 2, 5, 2, 0, 0, 0, 1, 1, 2, 0, 0, 0, 0, 0, 0, 1, 0, 0, 0, 0, 1, 0, 0, 0, 0, 2, 0, 0, 2, 0, 0, 0, 0, 0, 0, 0, 0, 0, 0, 0, 0, 2, 1, 0, 0, 0, 0, 1, 1, 1, 0, 2, 0, 0, 0, 0, 0, 0, 5, 1, 1, 0, 0, 0, 1, 0, 1, 1, 1, 0, 1, 0, 0, 0, 0, 0, 0, 1, 1, 0, 0, 0, 1, 1, 1, 0, 1, 2, 0, 3, 0, 0, 0, 2, 0, 0, 0, 0, 1, 1, 0, 0, 0, 0, 0, 0, 0, 1, 0, 0, 1, 1, 0, 1, 0, 0, 0, 1, 0, 1, 1, 1, 1, 0, 0, 1, 0, 0, 1, 0, 2, 1, 0, 2, 1, 0, 0, 0, 0, 0, 0, 1, 0, 1, 0, 0, 1, 4, 0, 0, 0, 1, 0, 0, 0, 0, 0, 0, 2, 1, 0, 1, 1, 1, 1, 1, 1, 1, 0, 0, 0, 0, 0, 0, 0, 0, 0, 0, 1, 1, 1, 0, 1, 0, 0, 0, 0, 1, 0, 1, 0, 1, 0, 0, 0, 1, 2, 0, 1, 0, 2, 2, 3, 1, 0, 2, 1, 2, 0, 0, 0, 0, 1, 0, 2, 1, 0, 0, 1, 0, 10, 0, 0, 0, 0, 0, 0, 0, 0, 1, 0, 1, 0, 0, 0, 1, 1, 0, 0, 1, 0, 0, 0, 1, 0, 0, 0, 0, 1, 0, 0, 0, 0, 0, 1, 1, 0, 0, 0, 0, 0, 1, 0, 0, 1, 3, 0, 0, 1, 0, 1, 0, 0, 0, 1, 0, 3, 0, 0, 1, 1, 0, 0, 0, 1, 1, 0, 0, 0, 2, 3, 1, 0, 0, 0, 1, 0, 1, 0, 0, 0, 0, 1, 2, 0, 0, 0, 0, 0, 2, 0, 1, 0, 0, 0, 0, 0, 0, 2, 0, 1, 0, 0, 1, 0, 0, 0, 0, 1, 0, 6, 0, 0, 2, 0, 2, 0, 0, 0, 1, 0, 0, 0, 1, 1, 1, 1, 0, 0, 1, 0, 0, 0, 0, 2, 6, 1, 0, 0, 0, 0, 0, 0, 0, 3, 1, 1, 0, 2, 1, 1, 0, 0, 0, 0, 0, 0, 0, 0, 1, 1, 0, 1, 0, 0, 1, 0, 0, 1, 1, 0, 0, 15, 0, 0, 0, 0, 2, 0, 0, 0, 0, 1, 0, 1, 2, 0, 1, 0, 0, 2, 1, 1, 0, 1, 0, 1, 2, 1, 0, 0, 1, 0, 4, 0, 1, 0, 0, 0, 1, 0, 0, 0, 0, 1, 1, 1, 0, 0, 1, 0, 0, 1, 0, 0, 1, 0, 0, 1, 0, 1, 2, 1, 0, 1, 1, 0, 1, 0, 1, 0, 2, 1, 0, 1, 0, 0, 1, 0, 1, 0, 1, 0, 1, 1, 0, 0, 2, 0, 0, 0], [0, 3, 0, 1, 1, 0, 0, 0, 1, 0, 0, 0, 0, 0, 0, 0, 0, 0, 3, 0, 0, 0, 0, 0, 0, 1, 0, 0, 0, 0, 1, 2, 0, 0, 1, 0, 0, 0, 0, 0, 0, 0, 3, 1, 0, 0, 0, 0, 0, 1, 0, 0, 0, 0, 0, 0, 0, 0, 0, 0, 1, 0, 0, 0, 0, 0, 0, 0, 1, 0, 0, 0, 0, 0, 0, 0, 0, 0, 0, 0, 0, 0, 0, 1, 0, 0, 0, 0, 0, 0, 0, 0, 0, 0, 0, 0, 0, 0, 0, 0, 0, 0, 0, 0, 1, 0, 2, 0, 0, 1, 0, 0, 1, 0, 0, 0, 2, 0, 0, 0, 0, 0, 0, 0, 0, 0, 0, 0, 1, 1, 0, 0, 0, 0, 0, 0, 0, 0, 0, 0, 0, 0, 0, 0, 0, 1, 0, 0, 0, 0, 0, 1, 1, 2, 0, 2, 1, 0, 0, 0, 0, 0, 0, 0, 0, 0, 0, 0, 0, 0, 0, 0, 0, 0, 0, 0, 1, 0, 0, 0, 0, 0, 0, 0, 0, 0, 0, 0, 0, 0, 0, 0, 0, 0, 0, 0, 1, 0, 0, 0, 0, 0, 0, 1, 0, 2, 0, 0, 1, 0, 0, 3, 0, 0, 2, 0, 0, 4, 0, 0, 0, 0, 0, 0, 0, 0, 0, 0, 0, 0, 0, 0, 0, 0, 0, 0, 0, 0, 0, 1, 0, 0, 3, 0, 0, 0, 0, 0, 0, 1, 2, 0, 0, 0, 0, 0, 0, 1, 0, 0, 0, 0, 0, 0, 1, 0, 0, 0, 0, 0, 0, 0, 0, 0, 0, 0, 0, 0, 0, 0, 0, 0, 1, 0, 0, 0, 0, 0, 0, 0, 0, 0, 0, 0, 0, 0, 0, 1, 0, 0, 0, 0, 0, 0, 0, 0, 0, 0, 0, 0, 0, 0, 0, 0, 0, 0, 0, 0, 0, 0, 0, 0, 1, 0, 1, 0, 0, 0, 0, 0, 1, 0, 0, 0, 1, 0, 0, 0, 0, 1, 0, 0, 0, 0, 0, 1, 0, 0, 1, 0, 0, 0, 0, 0, 1, 0, 0, 0, 0, 0, 0, 0, 0, 2, 0, 0, 0, 0, 0, 0, 0, 0, 1, 0, 0, 0, 0, 0, 3, 0, 0, 0, 0, 0, 0, 0, 0, 0, 0, 0, 0, 0, 0, 2, 0, 0, 1, 0, 0, 0, 0, 0, 0, 0, 0, 0, 0, 0, 0, 0, 0, 0, 1, 2, 0, 0, 0, 0, 0, 0, 0, 0, 0, 0, 0, 1, 0, 0, 0, 0, 1, 0, 1, 0, 1, 0, 0, 0, 0, 0, 0, 0, 0, 2, 0, 0, 0, 0, 0, 0, 0, 0, 0, 1, 0, 0, 0, 0, 0, 0, 0, 0, 2, 0, 0, 0, 0, 0, 0, 1, 0, 0, 0, 1, 0, 0, 0, 0, 0, 0, 2, 0, 0, 0, 1, 0, 0, 0, 0, 0, 0, 0, 0, 0, 0, 0, 0, 0, 1, 0, 0, 0, 0, 0, 1, 0, 0, 0, 0, 0, 0, 0, 0, 0, 0, 1, 0, 2, 0, 0, 0, 0, 0, 0, 0, 0, 1, 0, 0, 0, 2, 0, 0, 0, 0, 0, 0, 0, 0, 0, 0, 0, 0, 0, 0, 2, 1, 0, 0, 0, 0, 0, 0, 0, 0, 0, 0, 0, 0, 0, 0, 0, 0, 0, 2, 0, 0, 0, 0, 0, 0, 0, 0, 0, 2, 0, 0, 0, 0, 0, 0, 0, 0, 0, 0, 0, 0, 3, 0, 0, 1, 0, 0, 0, 1, 0, 0, 0, 0, 1, 0, 0, 0, 0, 3, 0, 0, 0, 0, 0, 0, 0, 0, 0, 0, 0, 0, 0, 0, 0, 0, 0, 0, 0, 0, 0, 0, 0, 0, 1, 0, 0, 0, 0], [0, 0, 0, 0, 0, 0, 0, 0, 466, 0, 466, 0, 0, 0, 0, 0, 0, 0, 466, 0, 0, 0, 0, 0, 466, 0, 0, 468, 0, 468, 0, 0, 0, 0, 0, 0, 0, 0, 0, 466, 0, 0, 1400, 468, 0, 2332, 0, 0, 0, 0, 0, 0, 0, 0, 0, 0, 0, 0, 0, 0, 466, 0, 0, 468, 0, 0, 0, 0, 0, 0, 0, 0, 0, 0, 0, 0, 0, 0, 0, 0, 0, 0, 0, 0, 0, 0, 0, 0, 0, 0, 936, 466, 0, 0, 0, 0, 0, 0, 466, 0, 0, 466, 468, 0, 0, 468, 0, 0, 0, 0, 0, 0, 466, 0, 0, 0, 0, 0, 0, 0, 0, 0, 0, 0, 0, 2330, 0, 0, 0, 0, 0, 466, 0, 0, 0, 0, 0, 0, 0, 466, 0, 0, 0, 0, 0, 0, 0, 0, 0, 0, 0, 0, 0, 0, 0, 0, 0, 0, 0, 0, 0, 0, 0, 0, 0, 0, 0, 0, 0, 0, 0, 0, 0, 0, 0, 0, 0, 0, 0, 468, 0, 0, 0, 0, 0, 0, 0, 0, 0, 0, 0, 0, 0, 0, 0, 0, 0, 0, 0, 466, 1400, 0, 0, 0, 0, 0, 0, 468, 0, 0, 0, 0, 0, 0, 0, 0, 466, 0, 0, 0, 0, 0, 0, 0, 0, 0, 0, 468, 0, 0, 0, 0, 0, 0, 0, 0, 0, 0, 0, 0, 0, 466, 0, 0, 0, 0, 0, 468, 468, 0, 0, 0, 0, 0, 0, 0, 0, 0, 0, 466, 0, 0, 0, 0, 0, 0, 0, 0, 0, 0, 0, 0, 0, 0, 0, 0, 0, 0, 0, 0, 0, 0, 0, 0, 0, 0, 934, 0, 0, 0, 0, 0, 468, 466, 0, 0, 0, 0, 0, 0, 0, 468, 0, 934, 0, 0, 0, 0, 0, 0, 0, 0, 0, 0, 0, 0, 0, 0, 0, 0, 0, 0, 936, 0, 0, 0, 0, 0, 468, 0, 0, 0, 0, 0, 0, 468, 0, 0, 0, 0, 0, 0, 0, 0, 0, 0, 0, 0, 0, 0, 0, 0, 0, 0, 466, 0, 0, 0, 934, 0, 0, 0, 0, 0, 0, 0, 0, 0, 0, 932, 0, 0, 0, 0, 0, 0, 0, 0, 0, 0, 0, 0, 0, 0, 0, 0, 466, 0, 0, 0, 0, 0, 0, 0, 0, 0, 0, 0, 0, 0, 0, 466, 0, 0, 0, 0, 0, 0, 0, 0, 0, 0, 0, 0, 0, 466, 0, 0, 0, 0, 466, 0, 0, 0, 0, 0, 0, 0, 0, 0, 0, 0, 0, 0, 0, 0, 0, 0, 0, 0, 0, 0, 466, 0, 0, 0, 0, 0, 0, 0, 0, 0, 0, 0, 0, 0, 0, 466, 466, 0, 0, 0, 0, 0, 0, 0, 936, 0, 0, 0, 0, 0, 466, 468, 0, 0, 0, 0, 0, 0, 0, 0, 0, 0, 0, 0, 0, 0, 0, 0, 0, 932, 0, 0, 0, 0, 0, 0, 0, 0, 0, 0, 0, 0, 0, 0, 0, 0, 0, 0, 0, 0, 466, 0, 0, 0, 0, 0, 0, 0, 0, 0, 0, 0, 934, 0, 0, 0, 0, 0, 0, 0, 0, 0, 0, 0, 0, 936, 0, 0, 466, 0, 0, 0, 0, 934, 0, 0, 0, 0, 0, 932, 0, 0, 468, 0, 0, 0, 0, 0, 0, 0, 0, 0, 0, 0, 0, 0, 0, 0, 0, 0, 0, 0, 0, 0, 0, 0, 0, 0, 0, 0, 0, 0, 0, 0, 0, 0, 0, 0, 0, 0, 0, 0, 0, 0, 0, 0, 0, 0, 0, 0, 0, 0, 0, 0, 0, 0, 0, 468, 0, 466, 0, 0, 0, 0, 0, 0, 0, 0, 0, 0, 0, 468, 0, 0, 0, 0, 0, 0, 466, 0, 0, 0], [0, 1, 1, 2, 0, 1, 0, 0, 2, 1, 0, 0, 1, 1, 1, 1, 1, 0, 0, 1, 0, 0, 0, 2, 2, 0, 0, 0, 0, 0, 0, 0, 0, 0, 2, 1, 0, 0, 1, 0, 3, 1, 7, 3, 0, 2, 1, 1, 1, 1, 2, 0, 0, 0, 0, 0, 0, 0, 0, 0, 4, 0, 1, 1, 0, 0, 0, 0, 1, 1, 0, 0, 0, 0, 0, 1, 0, 0, 0, 0, 0, 0, 0, 0, 0, 0, 2, 1, 1, 0, 0, 0, 0, 0, 0, 0, 2, 0, 0, 1, 0, 0, 1, 0, 1, 2, 0, 1, 0, 0, 1, 0, 2, 1, 1, 1, 2, 1, 0, 0, 7, 0, 0, 1, 0, 0, 0, 1, 0, 0, 1, 0, 1, 1, 0, 0, 0, 1, 0, 0, 0, 1, 1, 1, 0, 0, 4, 0, 1, 1, 1, 0, 0, 2, 5, 2, 0, 0, 0, 1, 1, 2, 0, 0, 0, 0, 0, 0, 1, 0, 0, 0, 0, 1, 0, 0, 0, 0, 2, 0, 0, 2, 0, 0, 0, 0, 0, 0, 0, 0, 0, 0, 0, 0, 2, 1, 0, 0, 0, 0, 1, 1, 1, 0, 2, 0, 0, 0, 0, 0, 0, 5, 1, 1, 0, 0, 0, 1, 0, 1, 1, 1, 0, 1, 0, 0, 0, 0, 0, 0, 1, 1, 0, 0, 0, 1, 1, 1, 0, 1, 2, 0, 3, 0, 0, 0, 2, 0, 0, 0, 0, 1, 1, 0, 0, 0, 0, 0, 0, 0, 1, 0, 0, 1, 1, 0, 1, 0, 0, 0, 1, 0, 1, 1, 1, 1, 0, 0, 1, 0, 0, 1, 0, 2, 1, 0, 2, 1, 0, 0, 0, 0, 0, 0, 1, 0, 1, 0, 0, 1, 4, 0, 0, 0, 1, 0, 0, 0, 0, 0, 0, 2, 1, 0, 1, 1, 1, 1, 1, 1, 1, 0, 0, 0, 0, 0, 0, 0, 0, 0, 0, 1, 1, 1, 0, 1, 0, 0, 0, 0, 1, 0, 1, 0, 1, 0, 0, 0, 1, 2, 0, 1, 0, 2, 2, 3, 1, 0, 2, 1, 2, 0, 0, 0, 0, 1, 0, 2, 1, 0, 0, 1, 0, 10, 0, 0, 0, 0, 0, 0, 0, 0, 1, 0, 1, 0, 0, 0, 1, 1, 0, 0, 1, 0, 0, 0, 1, 0, 0, 0, 0, 1, 0, 0, 0, 0, 0, 1, 1, 0, 0, 0, 0, 0, 1, 0, 0, 1, 3, 0, 0, 1, 0, 1, 0, 0, 0, 1, 0, 3, 0, 0, 1, 1, 0, 0, 0, 1, 1, 0, 0, 0, 2, 3, 1, 0, 0, 0, 1, 0, 1, 0, 0, 0, 0, 1, 2, 0, 0, 0, 0, 0, 2, 0, 1, 0, 0, 0, 0, 0, 0, 2, 0, 1, 0, 0, 1, 0, 0, 0, 0, 1, 0, 6, 0, 0, 2, 0, 2, 0, 0, 0, 1, 0, 0, 0, 1, 1, 1, 1, 0, 0, 1, 0, 0, 0, 0, 2, 6, 1, 0, 0, 0, 0, 0, 0, 0, 3, 1, 1, 0, 2, 1, 1, 0, 0, 0, 0, 0, 0, 0, 0, 1, 1, 0, 1, 0, 0, 1, 0, 0, 1, 1, 0, 0, 15, 0, 0, 0, 0, 2, 0, 0, 0, 0, 1, 0, 1, 2, 0, 1, 0, 0, 2, 1, 1, 0, 1, 0, 1, 2, 1, 0, 0, 1, 0, 4, 0, 1, 0, 0, 0, 1, 0, 0, 0, 0, 1, 1, 1, 0, 0, 1, 0, 0, 1, 0, 0, 1, 0, 0, 1, 0, 1, 2, 1, 0, 1, 1, 0, 1, 0, 1, 0, 2, 1, 0, 1, 0, 0, 1, 0, 1, 0, 1, 0, 1, 1, 0, 0, 2, 0, 0, 0], [0, 0, 0, 0, 0, 0, 1, 1, 0, 0, 0, 1, 0, 0, 0, 0, 0, 0, 0, 0, 0, 0, 0, 0, 0, 0, 0, 0, 0, 0, 0, 0, 0, 0, 0, 0, 0, 0, 0, 0, 0, 0, 0, 0, 1, 0, 0, 0, 0, 0, 0, 0, 0, 1, 0, 0, 0, 0, 0, 0, 0, 0, 0, 0, 0, 1, 0, 0, 0, 0, 0, 0, 0, 1, 0, 0, 0, 0, 0, 0, 1, 0, 0, 0, 0, 0, 0, 0, 0, 0, 0, 0, 0, 1, 0, 1, 0, 0, 0, 0, 0, 0, 0, 0, 0, 0, 0, 0, 0, 0, 0, 0, 0, 0, 0, 0, 0, 0, 0, 0, 0, 0, 1, 0, 1, 0, 0, 0, 0, 0, 0, 0, 0, 0, 0, 0, 0, 0, 0, 0, 0, 0, 0, 0, 0, 0, 0, 0, 0, 0, 0, 0, 0, 0, 0, 0, 0, 0, 0, 0, 0, 0, 0, 0, 1, 0, 0, 0, 0, 0, 0, 0, 0, 0, 0, 0, 0, 0, 0, 0, 0, 0, 0, 0, 0, 0, 0, 0, 1, 0, 0, 0, 0, 0, 0, 0, 0, 0, 0, 0, 0, 0, 0, 0, 0, 0, 0, 0, 0, 0, 0, 0, 0, 0, 0, 0, 0, 0, 0, 0, 0, 0, 0, 0, 0, 1, 0, 0, 0, 0, 0, 0, 0, 0, 0, 0, 0, 0, 1, 0, 0, 0, 0, 0, 0, 0, 0, 0, 0, 0, 0, 0, 0, 0, 0, 0, 0, 0, 0, 0, 0, 0, 0, 0, 0, 0, 0, 0, 0, 0, 0, 0, 0, 0, 0, 0, 0, 0, 0, 0, 0, 0, 0, 0, 0, 0, 0, 0, 0, 2, 1, 0, 0, 0, 0, 0, 0, 0, 1, 0, 0, 0, 0, 0, 0, 0, 0, 1, 0, 1, 0, 0, 0, 0, 0, 0, 0, 0, 0, 0, 0, 0, 0, 1, 0, 1, 0, 0, 0, 0, 0, 0, 0, 0, 0, 0, 0, 1, 1, 0, 0, 0, 0, 0, 0, 0, 0, 0, 0, 0, 0, 0, 1, 0, 0, 0, 0, 1, 0, 0, 0, 0, 0, 0, 0, 0, 0, 0, 0, 0, 0, 0, 0, 0, 0, 0, 0, 0, 0, 0, 0, 1, 0, 0, 0, 0, 0, 1, 0, 0, 1, 0, 0, 0, 0, 0, 0, 0, 0, 0, 0, 0, 0, 0, 0, 0, 0, 0, 0, 0, 0, 0, 0, 0, 0, 0, 0, 0, 0, 0, 0, 0, 1, 0, 0, 0, 0, 0, 0, 0, 0, 0, 0, 0, 0, 0, 0, 0, 0, 0, 0, 0, 0, 0, 0, 0, 1, 1, 0, 0, 0, 0, 0, 0, 0, 0, 0, 0, 0, 0, 0, 0, 0, 0, 0, 0, 0, 0, 0, 0, 0, 0, 0, 0, 0, 0, 0, 1, 0, 0, 0, 0, 0, 0, 0, 2, 0, 1, 0, 0, 0, 0, 0, 0, 0, 0, 0, 0, 0, 0, 0, 0, 0, 0, 0, 0, 0, 0, 0, 0, 0, 0, 0, 0, 0, 0, 0, 0, 0, 0, 0, 0, 0, 0, 0, 0, 0, 0, 0, 0, 0, 0, 0, 0, 0, 0, 0, 0, 0, 0, 0, 0, 0, 0, 0, 0, 0, 0, 0, 0, 0, 0, 0, 0, 0, 0, 1, 0, 0, 0, 0, 0, 0, 0, 0, 0, 0, 0, 0, 0, 0, 0, 0, 0, 0, 0, 0, 1, 0, 0, 0, 0, 0, 0, 0, 0, 0, 0, 0, 0, 0, 0, 0, 0, 0, 0, 0, 0, 0, 0, 0, 0, 1, 0, 0, 0, 0, 0, 0, 0, 0, 0, 0, 0, 0, 0, 1, 0, 0, 0, 0, 0, 0, 0, 0, 0, 0, 0, 0, 0, 0, 0, 1, 0], [0, 0, 0, 0, 0, 1, 0, 0, 1, 1, 0, 0, 0, 1, 1, 1, 1, 0, 0, 1, 0, 0, 0, 2, 1, 0, 0, 0, 0, 0, 0, 0, 0, 0, 2, 1, 0, 0, 1, 0, 3, 1, 5, 1, 0, 2, 1, 1, 1, 1, 2, 0, 0, 0, 0, 0, 0, 0, 0, 0, 2, 0, 0, 0, 0, 0, 0, 0, 0, 1, 0, 0, 0, 0, 0, 1, 0, 0, 0, 0, 0, 0, 0, 0, 0, 0, 0, 1, 1, 0, 0, 0, 0, 0, 0, 0, 1, 0, 0, 1, 0, 0, 0, 0, 0, 1, 0, 1, 0, 0, 1, 0, 2, 0, 1, 1, 2, 0, 0, 0, 5, 0, 0, 1, 0, 0, 0, 1, 0, 0, 1, 0, 1, 0, 0, 0, 0, 1, 0, 0, 0, 1, 1, 0, 0, 0, 2, 0, 1, 0, 0, 0, 0, 0, 5, 2, 0, 0, 0, 0, 1, 0, 0, 0, 0, 0, 0, 0, 1, 0, 0, 0, 0, 1, 0, 0, 0, 0, 1, 0, 0, 1, 0, 0, 0, 0, 0, 0, 0, 0, 0, 0, 0, 0, 0, 1, 0, 0, 0, 0, 0, 1, 1, 0, 0, 0, 0, 0, 0, 0, 0, 4, 0, 1, 0, 0, 0, 0, 0, 1, 0, 0, 0, 0, 0, 0, 0, 0, 0, 0, 1, 1, 0, 0, 0, 1, 1, 1, 0, 1, 2, 0, 2, 0, 0, 0, 2, 0, 0, 0, 0, 1, 0, 0, 0, 0, 0, 0, 0, 0, 1, 0, 0, 1, 1, 0, 0, 0, 0, 0, 0, 0, 0, 1, 1, 1, 0, 0, 1, 0, 0, 1, 0, 2, 1, 0, 2, 1, 0, 0, 0, 0, 0, 0, 0, 0, 1, 0, 0, 1, 3, 0, 0, 0, 1, 0, 0, 0, 0, 0, 0, 2, 1, 0, 0, 1, 1, 1, 1, 1, 1, 0, 0, 0, 0, 0, 0, 0, 0, 0, 0, 0, 1, 1, 0, 1, 0, 0, 0, 0, 1, 0, 1, 0, 1, 0, 0, 0, 0, 2, 0, 0, 0, 2, 2, 3, 1, 0, 2, 0, 1, 0, 0, 0, 0, 1, 0, 1, 0, 0, 0, 0, 0, 7, 0, 0, 0, 0, 0, 0, 0, 0, 0, 0, 1, 0, 0, 0, 1, 1, 0, 0, 1, 0, 0, 0, 0, 0, 0, 0, 0, 1, 0, 0, 0, 0, 0, 1, 1, 0, 0, 0, 0, 0, 1, 0, 0, 1, 2, 0, 0, 1, 0, 1, 0, 0, 0, 1, 0, 3, 0, 0, 1, 1, 0, 0, 0, 1, 1, 0, 0, 0, 0, 3, 0, 0, 0, 0, 1, 0, 1, 0, 0, 0, 0, 0, 2, 0, 0, 0, 0, 0, 1, 0, 1, 0, 0, 0, 0, 0, 0, 0, 0, 0, 0, 0, 0, 0, 0, 0, 0, 0, 0, 4, 0, 0, 2, 0, 2, 0, 0, 0, 1, 0, 0, 0, 0, 1, 1, 1, 0, 0, 1, 0, 0, 0, 0, 1, 6, 1, 0, 0, 0, 0, 0, 0, 0, 3, 1, 0, 0, 1, 0, 1, 0, 0, 0, 0, 0, 0, 0, 0, 1, 1, 0, 1, 0, 0, 1, 0, 0, 1, 1, 0, 0, 13, 0, 0, 0, 0, 0, 0, 0, 0, 0, 0, 0, 1, 1, 0, 0, 0, 0, 2, 0, 1, 0, 0, 0, 1, 2, 0, 0, 0, 1, 0, 4, 0, 1, 0, 0, 0, 1, 0, 0, 0, 0, 0, 1, 1, 0, 0, 1, 0, 0, 1, 0, 0, 1, 0, 0, 1, 0, 0, 0, 0, 0, 1, 1, 0, 0, 0, 1, 0, 2, 0, 0, 0, 0, 0, 0, 0, 1, 0, 1, 0, 0, 1, 0, 0, 2, 0, 0, 0]]\n"
     ]
    }
   ],
   "source": [
    "doc_term_matrix=[]\n",
    "print('\\nOur vocabulary vector is ['+', '.join(list(vocabulary))+']')\n",
    "for doc in docFiles:\n",
    "    tf_vector=[tf(word,doc) for word in vocabulary]\n",
    "    tf_vector_string=', '.join(format(freq,'d') for freq in tf_vector)\n",
    "    print('\\nThe tf vector for Document %d is [%s]' % ((docFiles.index(doc)+1),tf_vector_string))\n",
    "    doc_term_matrix.append(tf_vector)\n",
    "\n",
    "print('\\nAll combined, here is our master document tree matrix: ')\n",
    "print(doc_term_matrix)"
   ]
  },
  {
   "cell_type": "code",
   "execution_count": 8,
   "metadata": {},
   "outputs": [
    {
     "name": "stdout",
     "output_type": "stream",
     "text": [
      "\n",
      "A regular old document term matrix: \n",
      "[[0 1 1 ... 0 0 0]\n",
      " [0 3 0 ... 0 0 0]\n",
      " [0 0 0 ... 0 0 0]\n",
      " [0 1 1 ... 0 0 0]\n",
      " [0 0 0 ... 0 1 0]\n",
      " [0 0 0 ... 0 0 0]]\n",
      "\n",
      "A document term matrix with row-wise L2 norms of 1: \n",
      "[[0.         0.03097891 0.03097891 ... 0.         0.         0.        ]\n",
      " [0.         0.20134682 0.         ... 0.         0.         0.        ]\n",
      " [0.         0.         0.         ... 0.         0.         0.        ]\n",
      " [0.         0.03097891 0.03097891 ... 0.         0.         0.        ]\n",
      " [0.         0.         0.         ... 0.         0.14586499 0.        ]\n",
      " [0.         0.         0.         ... 0.         0.         0.        ]]\n"
     ]
    }
   ],
   "source": [
    "# Normalizing the values so that the square of each value is not greater than 1\n",
    "def l2_normalizer(vec):\n",
    "    denom=np.sum([el**2 for el in vec])\n",
    "    return [(el/math.sqrt(denom)) for el in vec]\n",
    "\n",
    "doc_term_matrix_l2=[]\n",
    "for vec in doc_term_matrix:\n",
    "    doc_term_matrix_l2.append(l2_normalizer(vec))\n",
    "    \n",
    "print('\\nA regular old document term matrix: ')\n",
    "print(np.matrix(doc_term_matrix))\n",
    "print('\\nA document term matrix with row-wise L2 norms of 1: ')\n",
    "print(np.matrix(doc_term_matrix_l2))"
   ]
  },
  {
   "cell_type": "code",
   "execution_count": 9,
   "metadata": {},
   "outputs": [
    {
     "name": "stdout",
     "output_type": "stream",
     "text": [
      "\n",
      "Our vocabulary vector is [align, may, found, 1, heading., emphasis., sane., verius., table,, ebooks,, want., ingenium, rop, text:, part, whose, subscript., here,, column,, correctly., outlin, doe, \"web, display, document,, allow, necessarili, prove, document\", box, item,, pages,, technolog, reader, paragraph., i.e., videmu, previou, bold-italic,, galleries., wide, —, document, document., para/doca, click, locations., take, special, main, either, interrupt, veri, voluptas., approach, obviously,, books”, descript, everi, table\", left, purpos, vast, make, focu, de, cave, horizont, column, calendar,, theme,, \"lists\", float, amet,, \"tables,\", conversion,, table—on, troubl, bodi, correctli, iocans;, except, chang, 3, nihil, devic, dropcap, types., boundaries., illustr, header,, time, pute, tu, microsoft, illi,, three, typograph, coordinated., narrow, dure, too,, best, locat, run, look, headings,, family., sever, split, screens., power, even, original,, plugin, ebooks., long, effect, honest, lover, ebook, thi, dicit?, struck, parte., new, simul, letter, documents:, ways:, line., stop, apart, drop-cap, occasion, intens, appear, (2007, continu, easier,, “d”, readers,, action., level,, smartart, accessible., font, posit, red,, complex., use., without, can't, link, right, image,, number, assist, calibr, 2,, newer), size, underlin, avail, vero, past, requir, larg, action,, head, miscellan, ha, generally,, often, nest, inlin, made, extern, indent,, code, aristoxeni, rather, map, backlink, side, break, theme, turn, dolor, retain, contents., cell, occupi, tri, set, complex,, complex, onlin, lorem, show, want, centered., conversion., (numbered), itself., columns., insert, add., readers., ubuntu, tabl, line, 58.5, sub, documents,, unlik, device., first, major, 100%, row., result, program, calibre., video,, elit., place, produced,, graphic, footnot, file, maximum, becom, prorsus,, wa, dialog, attention., partial, sunt., images,, normal, layout, level, word, \"headings\", extrem, end, keyword, sidebar., text,, columns,, bold,, height, case, becaus, let’, surround, fifth, color, -, much, element, torquatus:, side., table., then,, pts., littl, download, schedul, good, unord, nice, width., devices., equal, tum, analog, “block”, abil, provid, flow,, rows,, output, listing,, stretch, also, margin,, simpl, haec, altera, singl, other., reach, multi-level, simpli, arrow, cells:, ista, superscript, green, embed, invers, help, format,, vari, crazi, nunc, “add, ipsum, sed, footnotes,, size., “convert”., cap, you,, yellow, fancier, bullets,, floats,, exact, non, page,, musicis?, next., quidem,, translat, profession, footer,, appli, together,, possible,, border., final, sub-headings,, type, pdfs:, sane, admirabilia, means,, italic,, properti, given, depend, item, (bulleted), limit, adipisc, on., one, capabl, results,, iam, top, row, text., data,, quam, add, border, technology,, essenti, emphas, items., epub, background., input, view, common, theme., plu, start, next,, paragraph, poetri, fun, expressa, confirmata, web, exampl, imag, consumptum, tables., urg, inner, one,, styles,, interrete., box., you., inquit, subtl, ease., read, unit, word., 2, fanci, thing, option, notic, next, word,, quantum, anoth, rememb, kind, highlight., announcement., onli, contents,, mono, six, headings., light, pictures,, whatev, public, header, strike, them., blue, dicamus., paragraphs,, gener, image., techniqu, note, order, endnotes,, sections., absolut, point, links,, images., befor, fictiti, regular, extra, “float, l., instead,, it., list, sure, anyth, quae, assentior;, current, convers, gray, endnot, \"complex, graphs,, differ, well,, indent, keep, sign., resum, fix, commun, screen, follow, corner, handl, video, demonstr, ii, looks., table,\", section., work, example,, ensur, access, units., consectetur, hang, collaps, via, tolerable., ident, use, contain, omittamus;, ebook., sit, support, source:, variou, match, “, instanc, azw3, emphasi, converting., dot, lists,, handy., kindl, five, borders., insid, symbol, symbol\"., content, well, see, dot., preced, recogn, view., eas, complet, eight, ess, page, format, etc., possibl, width, topmost, small, way, “ok”., beginning,, featur, ani, merg, across, automat, bullets:, m., choos, fare, regularli, cover, close, origin, end,, amongst, like., relev, center, text, correctly,, mani, creat, servic, refer, need, someth, usual, point., perfect, inquit,, formatting., ., caus, drop, rel, properli, typeface,, second, modern, reges:, optimum, chart, get, bullet, on,, specifi, philosophia, tables,, altern, like, nostram, convert, websit, alt, identifi, indents,, lead, save, four, docx, section, inserted,, don’t, uniform, structur, fonts., categori, descriptions,, merged., pictur, emb, width,, within, \"sampl, come, constructio, book, two, possible., sampl, &, video., search, style, charts,, general,, quid, preserved., percentages,, aetatibus,, ugly., additionally,, individu, back, \"simpl, bullets., complement, strong, design, hyperlinks,, viewer, duo, that., button, fit, quicquam, pomponiu]\n",
      "\n",
      "The inverse document frequency vector is [1.791759, 2.197225, 2.079442, 2.197225, 1.945910, 2.197225, 1.945910, 1.945910, 2.397895, 2.197225, 1.945910, 1.945910, 2.079442, 2.197225, 2.197225, 2.197225, 2.197225, 1.791759, 2.079442, 2.197225, 1.791759, 1.791759, 1.791759, 2.197225, 2.302585, 1.945910, 1.791759, 1.945910, 1.791759, 1.945910, 1.945910, 1.945910, 1.791759, 1.791759, 2.302585, 2.197225, 1.791759, 1.791759, 2.197225, 1.945910, 2.197225, 2.197225, 2.397895, 2.397895, 1.945910, 2.302585, 2.197225, 2.197225, 2.197225, 2.302585, 2.197225, 1.791759, 1.791759, 1.945910, 1.791759, 1.791759, 1.791759, 1.791759, 1.791759, 1.791759, 2.397895, 1.791759, 2.079442, 2.197225, 1.791759, 1.945910, 1.791759, 1.791759, 2.197225, 2.197225, 1.791759, 1.791759, 1.791759, 1.945910, 1.791759, 2.197225, 1.791759, 1.791759, 1.791759, 1.791759, 1.945910, 1.791759, 1.791759, 1.945910, 1.791759, 1.791759, 2.079442, 2.197225, 2.197225, 1.791759, 1.945910, 1.945910, 1.791759, 1.945910, 1.791759, 1.945910, 2.197225, 1.791759, 1.945910, 2.197225, 1.791759, 1.945910, 2.197225, 1.791759, 2.197225, 2.302585, 1.945910, 2.197225, 1.791759, 1.945910, 2.197225, 1.791759, 2.397895, 2.079442, 2.197225, 2.197225, 2.302585, 2.079442, 1.791759, 1.791759, 2.197225, 1.791759, 1.945910, 2.197225, 1.945910, 1.945910, 1.791759, 2.197225, 1.945910, 1.945910, 2.197225, 1.945910, 2.197225, 2.079442, 1.791759, 1.791759, 1.791759, 2.197225, 1.791759, 1.945910, 1.791759, 2.197225, 2.197225, 2.079442, 1.791759, 1.945910, 2.197225, 1.791759, 2.197225, 2.079442, 2.079442, 1.945910, 1.945910, 2.197225, 2.197225, 2.302585, 1.945910, 1.791759, 1.791759, 2.079442, 2.197225, 2.079442, 1.791759, 1.791759, 1.945910, 1.791759, 1.791759, 1.791759, 2.197225, 1.791759, 1.791759, 1.791759, 1.791759, 2.197225, 1.791759, 1.791759, 1.945910, 1.791759, 2.197225, 1.945910, 1.791759, 2.197225, 1.791759, 1.791759, 1.791759, 1.791759, 1.791759, 1.791759, 1.945910, 1.791759, 1.791759, 1.791759, 1.791759, 1.791759, 2.079442, 2.197225, 1.945910, 1.791759, 1.791759, 1.945910, 2.197225, 2.197225, 2.197225, 1.945910, 2.079442, 1.945910, 1.791759, 1.945910, 1.945910, 1.791759, 1.791759, 2.302585, 2.079442, 2.197225, 1.945910, 1.791759, 1.945910, 2.197225, 1.791759, 2.197225, 2.079442, 2.079442, 1.791759, 2.079442, 1.791759, 1.945910, 1.791759, 1.945910, 1.791759, 1.791759, 2.197225, 2.197225, 1.791759, 1.791759, 1.791759, 2.197225, 2.197225, 2.197225, 1.945910, 2.302585, 2.197225, 1.945910, 2.302585, 1.791759, 1.791759, 1.791759, 2.197225, 1.945910, 1.945910, 1.945910, 1.945910, 2.197225, 2.079442, 1.791759, 1.791759, 1.791759, 1.791759, 1.945910, 1.791759, 1.945910, 2.197225, 1.791759, 1.791759, 2.197225, 2.302585, 1.791759, 2.079442, 1.791759, 1.791759, 1.791759, 2.079442, 1.791759, 2.079442, 2.197225, 2.197225, 2.197225, 1.791759, 1.791759, 2.197225, 1.791759, 1.791759, 2.197225, 1.945910, 2.197225, 2.197225, 1.791759, 2.302585, 2.197225, 1.791759, 1.945910, 1.945910, 1.791759, 1.945910, 1.945910, 2.079442, 1.791759, 2.197225, 1.945910, 1.945910, 2.197225, 2.197225, 1.945910, 1.791759, 1.945910, 2.197225, 1.791759, 1.791759, 1.945910, 1.791759, 1.945910, 1.791759, 2.197225, 2.197225, 1.791759, 2.079442, 2.197225, 2.197225, 2.197225, 2.197225, 2.197225, 2.197225, 1.791759, 2.079442, 1.945910, 1.945910, 1.945910, 1.791759, 1.791759, 1.945910, 1.791759, 1.945910, 2.079442, 2.197225, 2.197225, 1.945910, 2.302585, 1.791759, 1.945910, 1.945910, 1.945910, 2.197225, 1.791759, 2.197225, 1.791759, 2.197225, 1.945910, 1.791759, 1.791759, 2.197225, 2.197225, 1.791759, 2.079442, 1.945910, 2.197225, 2.397895, 2.197225, 2.197225, 1.945910, 2.302585, 2.079442, 2.197225, 1.791759, 1.791759, 1.945910, 1.791759, 2.197225, 1.791759, 2.197225, 2.079442, 1.945910, 1.791759, 2.079442, 1.945910, 2.197225, 1.791759, 1.791759, 1.791759, 1.791759, 1.945910, 1.791759, 1.791759, 1.945910, 2.079442, 1.791759, 2.197225, 1.791759, 1.945910, 1.945910, 2.197225, 2.197225, 1.945910, 1.791759, 2.197225, 1.945910, 1.791759, 1.791759, 2.197225, 1.791759, 1.791759, 1.791759, 1.791759, 2.302585, 1.791759, 1.791759, 1.791759, 1.791759, 1.791759, 2.197225, 2.197225, 1.791759, 1.791759, 1.791759, 1.945910, 1.945910, 2.197225, 1.945910, 1.791759, 2.197225, 2.197225, 1.791759, 1.945910, 2.197225, 1.945910, 2.197225, 1.791759, 1.945910, 1.791759, 2.197225, 1.791759, 2.197225, 1.945910, 1.791759, 2.302585, 2.197225, 1.945910, 1.791759, 1.791759, 2.197225, 2.197225, 1.791759, 1.791759, 1.791759, 2.197225, 2.302585, 2.079442, 1.791759, 1.945910, 1.945910, 2.197225, 1.791759, 2.197225, 1.791759, 1.791759, 1.945910, 1.791759, 2.079442, 2.197225, 1.945910, 1.945910, 1.791759, 1.791759, 1.791759, 2.302585, 1.791759, 2.197225, 1.791759, 1.945910, 1.791759, 1.791759, 1.945910, 1.791759, 2.079442, 1.945910, 2.302585, 1.791759, 1.791759, 2.079442, 1.945910, 1.791759, 1.791759, 1.945910, 2.079442, 1.791759, 2.197225, 1.945910, 1.945910, 2.197225, 1.945910, 2.197225, 1.791759, 1.791759, 1.945910, 2.197225, 1.791759, 1.791759, 1.791759, 2.079442, 2.197225, 2.302585, 2.197225, 1.791759, 1.791759, 2.197225, 1.791759, 1.945910, 1.791759, 1.791759, 2.197225, 2.197225, 2.197225, 1.791759, 1.791759, 1.945910, 1.791759, 1.791759, 1.945910, 1.791759, 2.302585, 2.197225, 2.079442, 1.791759, 2.197225, 2.079442, 2.197225, 1.945910, 1.791759, 1.945910, 1.791759, 1.791759, 1.791759, 1.945910, 1.791759, 2.197225, 2.197225, 1.791759, 2.197225, 1.791759, 1.945910, 2.197225, 1.791759, 1.945910, 2.197225, 2.197225, 1.791759, 1.791759, 2.397895, 1.945910, 1.791759, 1.791759, 1.791759, 2.079442, 1.945910, 1.791759, 1.791759, 1.945910, 2.079442, 1.945910, 2.197225, 2.197225, 1.791759, 2.079442, 1.791759, 1.791759, 2.197225, 2.197225, 2.197225, 1.791759, 2.079442, 1.791759, 2.197225, 2.197225, 2.079442, 1.791759, 1.791759, 2.302585, 1.791759, 2.197225, 1.945910, 2.197225, 1.791759, 1.791759, 1.791759, 2.197225, 1.791759, 1.791759, 1.791759, 1.791759, 2.197225, 2.197225, 2.197225, 1.945910, 1.791759, 2.197225, 1.791759, 1.945910, 2.197225, 1.791759, 1.791759, 2.197225, 1.945910, 1.791759, 2.197225, 1.945910, 2.079442, 2.197225, 2.079442, 1.791759, 2.197225, 2.197225, 1.945910, 2.079442, 1.945910, 2.197225, 1.791759, 2.197225, 2.079442, 1.945910, 2.079442, 1.791759, 1.791759, 2.079442, 1.791759, 2.197225, 1.945910, 2.197225, 1.791759, 2.079442, 2.197225, 1.791759, 1.945910, 2.302585, 1.791759, 1.945910, 1.791759]\n"
     ]
    }
   ],
   "source": [
    "# Calculating idf - inverse document frequency\n",
    "def numDocsContaining(word,doclist):\n",
    "    document=0\n",
    "    for doc in doclist:\n",
    "        if freq(word,doc)>0:\n",
    "            document+=1\n",
    "    return document\n",
    "\n",
    "def idf(word,doclist):\n",
    "    n_samples=len(doclist)\n",
    "    df=numDocsContaining(word,doclist)\n",
    "    return np.log(n_samples/1+df)\n",
    "\n",
    "my_idf_vector=[idf(word,docFiles) for word in vocabulary]\n",
    "\n",
    "print('\\nOur vocabulary vector is ['+', '.join(list(vocabulary))+']')\n",
    "print('\\nThe inverse document frequency vector is ['+', '.join(format(freq,'f') for freq in my_idf_vector)+']')"
   ]
  },
  {
   "cell_type": "code",
   "execution_count": 10,
   "metadata": {},
   "outputs": [
    {
     "name": "stdout",
     "output_type": "stream",
     "text": [
      "\n",
      "idf matrix is: \n",
      "[[1.79175947 0.         0.         ... 0.         0.         0.        ]\n",
      " [0.         2.19722458 0.         ... 0.         0.         0.        ]\n",
      " [0.         0.         2.07944154 ... 0.         0.         0.        ]\n",
      " ...\n",
      " [0.         0.         0.         ... 1.79175947 0.         0.        ]\n",
      " [0.         0.         0.         ... 0.         1.94591015 0.        ]\n",
      " [0.         0.         0.         ... 0.         0.         1.79175947]]\n"
     ]
    }
   ],
   "source": [
    "# Building a diagonal matrix from idf\n",
    "def build_idf_matrix(idf_vector):\n",
    "    idf_mat=np.zeros((len(idf_vector),len(idf_vector)))\n",
    "    np.fill_diagonal(idf_mat,idf_vector)\n",
    "    return idf_mat\n",
    "\n",
    "my_idf_matrix=build_idf_matrix(my_idf_vector)\n",
    "print('\\nidf matrix is: ')\n",
    "print(my_idf_matrix)                     "
   ]
  },
  {
   "cell_type": "code",
   "execution_count": 11,
   "metadata": {},
   "outputs": [
    {
     "name": "stdout",
     "output_type": "stream",
     "text": [
      "{'align', 'may', 'found', '1', 'heading.', 'emphasis.', 'sane.', 'verius.', 'table,', 'ebooks,', 'want.', 'ingenium', 'rop', 'text:', 'part', 'whose', 'subscript.', 'here,', 'column,', 'correctly.', 'outlin', 'doe', '\"web', 'display', 'document,', 'allow', 'necessarili', 'prove', 'document\"', 'box', 'item,', 'pages,', 'technolog', 'reader', 'paragraph.', 'i.e.', 'videmu', 'previou', 'bold-italic,', 'galleries.', 'wide', '—', 'document', 'document.', 'para/doca', 'click', 'locations.', 'take', 'special', 'main', 'either', 'interrupt', 'veri', 'voluptas.', 'approach', 'obviously,', 'books”', 'descript', 'everi', 'table\"', 'left', 'purpos', 'vast', 'make', 'focu', 'de', 'cave', 'horizont', 'column', 'calendar,', 'theme,', '\"lists\"', 'float', 'amet,', '\"tables,\"', 'conversion,', 'table—on', 'troubl', 'bodi', 'correctli', 'iocans;', 'except', 'chang', '3', 'nihil', 'devic', 'dropcap', 'types.', 'boundaries.', 'illustr', 'header,', 'time', 'pute', 'tu', 'microsoft', 'illi,', 'three', 'typograph', 'coordinated.', 'narrow', 'dure', 'too,', 'best', 'locat', 'run', 'look', 'headings,', 'family.', 'sever', 'split', 'screens.', 'power', 'even', 'original,', 'plugin', 'ebooks.', 'long', 'effect', 'honest', 'lover', 'ebook', 'thi', 'dicit?', 'struck', 'parte.', 'new', 'simul', 'letter', 'documents:', 'ways:', 'line.', 'stop', 'apart', 'drop-cap', 'occasion', 'intens', 'appear', '(2007', 'continu', 'easier,', '“d”', 'readers,', 'action.', 'level,', 'smartart', 'accessible.', 'font', 'posit', 'red,', 'complex.', 'use.', 'without', \"can't\", 'link', 'right', 'image,', 'number', 'assist', 'calibr', '2,', 'newer)', 'size', 'underlin', 'avail', 'vero', 'past', 'requir', 'larg', 'action,', 'head', 'miscellan', 'ha', 'generally,', 'often', 'nest', 'inlin', 'made', 'extern', 'indent,', 'code', 'aristoxeni', 'rather', 'map', 'backlink', 'side', 'break', 'theme', 'turn', 'dolor', 'retain', 'contents.', 'cell', 'occupi', 'tri', 'set', 'complex,', 'complex', 'onlin', 'lorem', 'show', 'want', 'centered.', 'conversion.', '(numbered)', 'itself.', 'columns.', 'insert', 'add.', 'readers.', 'ubuntu', 'tabl', 'line', '58.5', 'sub', 'documents,', 'unlik', 'device.', 'first', 'major', '100%', 'row.', 'result', 'program', 'calibre.', 'video,', 'elit.', 'place', 'produced,', 'graphic', 'footnot', 'file', 'maximum', 'becom', 'prorsus,', 'wa', 'dialog', 'attention.', 'partial', 'sunt.', 'images,', 'normal', 'layout', 'level', 'word', '\"headings\"', 'extrem', 'end', 'keyword', 'sidebar.', 'text,', 'columns,', 'bold,', 'height', 'case', 'becaus', 'let’', 'surround', 'fifth', 'color', '-', 'much', 'element', 'torquatus:', 'side.', 'table.', 'then,', 'pts.', 'littl', 'download', 'schedul', 'good', 'unord', 'nice', 'width.', 'devices.', 'equal', 'tum', 'analog', '“block”', 'abil', 'provid', 'flow,', 'rows,', 'output', 'listing,', 'stretch', 'also', 'margin,', 'simpl', 'haec', 'altera', 'singl', 'other.', 'reach', 'multi-level', 'simpli', 'arrow', 'cells:', 'ista', 'superscript', 'green', 'embed', 'invers', 'help', 'format,', 'vari', 'crazi', 'nunc', '“add', 'ipsum', 'sed', 'footnotes,', 'size.', '“convert”.', 'cap', 'you,', 'yellow', 'fancier', 'bullets,', 'floats,', 'exact', 'non', 'page,', 'musicis?', 'next.', 'quidem,', 'translat', 'profession', 'footer,', 'appli', 'together,', 'possible,', 'border.', 'final', 'sub-headings,', 'type', 'pdfs:', 'sane', 'admirabilia', 'means,', 'italic,', 'properti', 'given', 'depend', 'item', '(bulleted)', 'limit', 'adipisc', 'on.', 'one', 'capabl', 'results,', 'iam', 'top', 'row', 'text.', 'data,', 'quam', 'add', 'border', 'technology,', 'essenti', 'emphas', 'items.', 'epub', 'background.', 'input', 'view', 'common', 'theme.', 'plu', 'start', 'next,', 'paragraph', 'poetri', 'fun', 'expressa', 'confirmata', 'web', 'exampl', 'imag', 'consumptum', 'tables.', 'urg', 'inner', 'one,', 'styles,', 'interrete.', 'box.', 'you.', 'inquit', 'subtl', 'ease.', 'read', 'unit', 'word.', '2', 'fanci', 'thing', 'option', 'notic', 'next', 'word,', 'quantum', 'anoth', 'rememb', 'kind', 'highlight.', 'announcement.', 'onli', 'contents,', 'mono', 'six', 'headings.', 'light', 'pictures,', 'whatev', 'public', 'header', 'strike', 'them.', 'blue', 'dicamus.', 'paragraphs,', 'gener', 'image.', 'techniqu', 'note', 'order', 'endnotes,', 'sections.', 'absolut', 'point', 'links,', 'images.', 'befor', 'fictiti', 'regular', 'extra', '“float', 'l.', 'instead,', 'it.', 'list', 'sure', 'anyth', 'quae', 'assentior;', 'current', 'convers', 'gray', 'endnot', '\"complex', 'graphs,', 'differ', 'well,', 'indent', 'keep', 'sign.', 'resum', 'fix', 'commun', 'screen', 'follow', 'corner', 'handl', 'video', 'demonstr', 'ii', 'looks.', 'table,\"', 'section.', 'work', 'example,', 'ensur', 'access', 'units.', 'consectetur', 'hang', 'collaps', 'via', 'tolerable.', 'ident', 'use', 'contain', 'omittamus;', 'ebook.', 'sit', 'support', 'source:', 'variou', 'match', '“', 'instanc', 'azw3', 'emphasi', 'converting.', 'dot', 'lists,', 'handy.', 'kindl', 'five', 'borders.', 'insid', 'symbol', 'symbol\".', 'content', 'well', 'see', 'dot.', 'preced', 'recogn', 'view.', 'eas', 'complet', 'eight', 'ess', 'page', 'format', 'etc.', 'possibl', 'width', 'topmost', 'small', 'way', '“ok”.', 'beginning,', 'featur', 'ani', 'merg', 'across', 'automat', 'bullets:', 'm.', 'choos', 'fare', 'regularli', 'cover', 'close', 'origin', 'end,', 'amongst', 'like.', 'relev', 'center', 'text', 'correctly,', 'mani', 'creat', 'servic', 'refer', 'need', 'someth', 'usual', 'point.', 'perfect', 'inquit,', 'formatting.', '.', 'caus', 'drop', 'rel', 'properli', 'typeface,', 'second', 'modern', 'reges:', 'optimum', 'chart', 'get', 'bullet', 'on,', 'specifi', 'philosophia', 'tables,', 'altern', 'like', 'nostram', 'convert', 'websit', 'alt', 'identifi', 'indents,', 'lead', 'save', 'four', 'docx', 'section', 'inserted,', 'don’t', 'uniform', 'structur', 'fonts.', 'categori', 'descriptions,', 'merged.', 'pictur', 'emb', 'width,', 'within', '\"sampl', 'come', 'constructio', 'book', 'two', 'possible.', 'sampl', '&', 'video.', 'search', 'style', 'charts,', 'general,', 'quid', 'preserved.', 'percentages,', 'aetatibus,', 'ugly.', 'additionally,', 'individu', 'back', '\"simpl', 'bullets.', 'complement', 'strong', 'design', 'hyperlinks,', 'viewer', 'duo', 'that.', 'button', 'fit', 'quicquam', 'pomponiu'}\n",
      "[[0.         0.03009341 0.02848024 ... 0.         0.         0.        ]\n",
      " [0.         0.20701397 0.         ... 0.         0.         0.        ]\n",
      " [0.         0.         0.         ... 0.         0.         0.        ]\n",
      " [0.         0.03009341 0.02848024 ... 0.         0.         0.        ]\n",
      " [0.         0.         0.         ... 0.         0.14586499 0.        ]\n",
      " [0.         0.         0.         ... 0.         0.         0.        ]]\n"
     ]
    }
   ],
   "source": [
    "# Generating tfidf matrix\n",
    "doc_term_matrix_tfidf=[]\n",
    "\n",
    "for tf_vector in doc_term_matrix:\n",
    "    doc_term_matrix_tfidf.append(np.dot(tf_vector,my_idf_matrix))\n",
    "    \n",
    "doc_term_matrix_tfidf_l2=[]\n",
    "for tf_vector in doc_term_matrix_tfidf:\n",
    "    doc_term_matrix_tfidf_l2.append(l2_normalizer(tf_vector))\n",
    "\n",
    "print(vocabulary)\n",
    "print(np.matrix(doc_term_matrix_tfidf_l2))"
   ]
  },
  {
   "cell_type": "code",
   "execution_count": 12,
   "metadata": {},
   "outputs": [
    {
     "name": "stdout",
     "output_type": "stream",
     "text": [
      "\n",
      "Comparison between sample1.docx and sample3.docx: \n",
      "plagiarism=34 %\n",
      "\n",
      "\n",
      "Comparison between sample1.docx and sample4.docx: \n",
      "plagiarism=27 %\n",
      "\n",
      "\n",
      "Comparison between sample1.docx and sample5.docx: \n",
      "plagiarism=100 %\n",
      "\n",
      "\n",
      "Comparison between sample1.docx and sample2.docx: \n",
      "plagiarism=0 %\n",
      "\n",
      "\n",
      "Comparison between sample1.docx and sample6.docx: \n",
      "plagiarism=94 %\n",
      "\n",
      "\n",
      "Comparison between sample3.docx and sample4.docx: \n",
      "plagiarism=15 %\n",
      "\n",
      "\n",
      "Comparison between sample3.docx and sample5.docx: \n",
      "plagiarism=34 %\n",
      "\n",
      "\n",
      "Comparison between sample3.docx and sample2.docx: \n",
      "plagiarism=0 %\n",
      "\n",
      "\n",
      "Comparison between sample3.docx and sample6.docx: \n",
      "plagiarism=28 %\n",
      "\n",
      "\n",
      "Comparison between sample4.docx and sample5.docx: \n",
      "plagiarism=27 %\n",
      "\n",
      "\n",
      "Comparison between sample4.docx and sample2.docx: \n",
      "plagiarism=0 %\n",
      "\n",
      "\n",
      "Comparison between sample4.docx and sample6.docx: \n",
      "plagiarism=25 %\n",
      "\n",
      "\n",
      "Comparison between sample5.docx and sample2.docx: \n",
      "plagiarism=0 %\n",
      "\n",
      "\n",
      "Comparison between sample5.docx and sample6.docx: \n",
      "plagiarism=94 %\n",
      "\n",
      "\n",
      "Comparison between sample2.docx and sample6.docx: \n",
      "plagiarism=0 %\n",
      "\n"
     ]
    }
   ],
   "source": [
    "# Calculating plagiarism percentage using cosine similarity\n",
    "for i in range (len(docFiles)):\n",
    "    for j in range(i+1,len(docFiles)):\n",
    "        result_nltk=nltk.cluster.util.cosine_distance(doc_term_matrix_tfidf_l2[i],doc_term_matrix_tfidf_l2[j])\n",
    "        print('\\nComparison between %s and %s: '%(docNames[i],docNames[j]))\n",
    "#         print(result_nltk)\n",
    "        cos_sin=1-result_nltk;\n",
    "        angle_in_radians=math.acos(cos_sin)\n",
    "        \n",
    "        plagiarism=int(cos_sin*100)\n",
    "        print('plagiarism=%s %%\\n'% plagiarism)"
   ]
  },
  {
   "cell_type": "code",
   "execution_count": null,
   "metadata": {},
   "outputs": [],
   "source": []
  }
 ],
 "metadata": {
  "kernelspec": {
   "display_name": "Python 3",
   "language": "python",
   "name": "python3"
  },
  "language_info": {
   "codemirror_mode": {
    "name": "ipython",
    "version": 3
   },
   "file_extension": ".py",
   "mimetype": "text/x-python",
   "name": "python",
   "nbconvert_exporter": "python",
   "pygments_lexer": "ipython3",
   "version": "3.8.5"
  }
 },
 "nbformat": 4,
 "nbformat_minor": 4
}
